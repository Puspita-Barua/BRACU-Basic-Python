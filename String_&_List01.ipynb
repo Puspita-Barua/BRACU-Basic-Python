{
  "nbformat": 4,
  "nbformat_minor": 0,
  "metadata": {
    "colab": {
      "provenance": []
    },
    "kernelspec": {
      "name": "python3",
      "display_name": "Python 3"
    },
    "language_info": {
      "name": "python"
    }
  },
  "cells": [
    {
      "cell_type": "markdown",
      "source": [
        "# String"
      ],
      "metadata": {
        "id": "WD6O_32L1zcb"
      }
    },
    {
      "cell_type": "markdown",
      "source": [
        "#Task 1\n",
        "Write a Python program to count the total number of alphabets, digits, and special characters in a string.\n",
        "Here, space is considered as a special character.\n",
        "\n",
        "====================================================\n",
        "\n",
        "Sample Input:\\\n",
        "This is CSE110 Course.\\\n",
        "Sample Output:\\\n",
        "The number of Alphabets in the string is: 15\\\n",
        "The number of Digits in the string is : 3\\\n",
        "The number of Special characters in the string is: 4"
      ],
      "metadata": {
        "id": "kSpx3PYj2G3C"
      }
    },
    {
      "cell_type": "code",
      "execution_count": null,
      "metadata": {
        "id": "OdaW_Nu51vuQ"
      },
      "outputs": [],
      "source": [
        "\n",
        "user_input = input(\"Please enter a string: \")\n",
        "count1 = 0\n",
        "count2 = 0\n",
        "count3 = 0\n",
        "for i in range(len(user_input)):\n",
        "  if 65 <= ord(user_input[i]) <= 90 or 97 <= ord(user_input[i]) <= 122:\n",
        "    count1 = count1 + 1\n",
        "  #print(\"The number of Alphabets in the string is:\", count1)\n",
        "  elif 48 <= ord(user_input[i]) <= 57:\n",
        "    count2 = count2 + 1\n",
        "  else:\n",
        "    count3 = count3 + 1\n",
        "print(\"The number of Alphabets in the string is:\",count1)\n",
        "print(\"The number of Digits in the string is:\",count2)\n",
        "print(\"The number of Special characters in the string is:\",count3)"
      ]
    },
    {
      "cell_type": "markdown",
      "source": [
        "#Task 2\n",
        "Write a Python program to find the largest and smallest word in a string.\n",
        "[you are not allowed to use max() and min()]\\\n",
        "Sample Input :\\\n",
        "It is a string with the smallest and largest word.\\\n",
        "Sample Output :\\\n",
        "The largest word is “smallest” and the smallest word is 'a'."
      ],
      "metadata": {
        "id": "8ctDKwhq68Ox"
      }
    },
    {
      "cell_type": "code",
      "source": [
        "\n",
        "user = input(\"Please enter the string: \")\n",
        "user_1 = user.split(\" \")\n",
        "max = len(user_1[0])\n",
        "min = max\n",
        "for i in user_1:\n",
        "  if len(i) > max:\n",
        "    max = len(i)\n",
        "    max_word = i\n",
        "  elif len(i)< min:\n",
        "    min = len(i)\n",
        "    min_word = i\n",
        "print('The largest word is \"'+max_word+ '\" and the smallest word is '+\"'\"+min_word+\"'\"+\".\")"
      ],
      "metadata": {
        "id": "OW26r3sk7EEu"
      },
      "execution_count": null,
      "outputs": []
    },
    {
      "cell_type": "markdown",
      "source": [
        "#Task 3\n",
        "Write a Python program that takes two strings from the user. Then remove characters from the firststring which are present in the second string. [you are not allowed to use replace() ]\n",
        "\n",
        "=====================================================\n",
        "\n",
        "Sample Input1:\\\n",
        "India is great\\\n",
        "is\\\n",
        "Sample Output1:\\\n",
        "nda great\n",
        "\n",
        "=====================================================\n",
        "\n",
        "Sample Input2:\\\n",
        "this is cSe110 course and we love it\\\n",
        "lo1iva\\\n",
        "Sample Output2:\\\n",
        "ths s cse0 curse nd we e t\n",
        "\n",
        "=====================================================\n",
        "\n",
        "Sample Input3:\\\n",
        "next course is cse111\\\n",
        "lo1iva\\\n",
        "Sample Output3:\\\n",
        "ext coure i ce111"
      ],
      "metadata": {
        "id": "KD2UCqBLrTVm"
      }
    },
    {
      "cell_type": "code",
      "source": [
        "\n",
        "str_1 = input()\n",
        "str_2 = input()\n",
        "str_1 = str_1.lower()\n",
        "em_str = \"\"\n",
        "l1 = []\n",
        "for i in range(len(str_2)):\n",
        "  l1.append(str_2[i])\n",
        "for i in str_1:\n",
        "  if i not in l1:\n",
        "    em_str = em_str + i\n",
        "print(em_str)"
      ],
      "metadata": {
        "id": "OqB2Edses5Wb"
      },
      "execution_count": null,
      "outputs": []
    },
    {
      "cell_type": "markdown",
      "source": [
        "#Task 4\n",
        "Write a Python program to Capitalize the first character of each word in a String [You cannot use the built-in upper() function]\\\n",
        "Sample Input:\\\n",
        "I love python programming\\\n",
        "Sample Output:\\\n",
        "I Love Python Programming"
      ],
      "metadata": {
        "id": "aTTGxIdMuP7W"
      }
    },
    {
      "cell_type": "code",
      "source": [
        "\n",
        "str_1 = input()\n",
        "new = str_1[0]\n",
        "for i in range(1,len(str_1)):\n",
        "  if str_1[i-1] == \" \" and 97 <= ord(str_1[i]) <= 122:\n",
        "    new =  new + chr(ord(str_1[i])-32)\n",
        "  else:\n",
        "    new = new + str_1[i]\n",
        "print(new)"
      ],
      "metadata": {
        "id": "uJ8pmorUuoBK"
      },
      "execution_count": null,
      "outputs": []
    },
    {
      "cell_type": "markdown",
      "source": [
        "#Task 5\n",
        "Write a python function that takes a string with multiple numbers separated by commas as input from the user. Extract the numbers from the string and make a list and print it. Multiply the numbers of the\n",
        "list and print the product. [Hint: You can use split()]\n",
        "\n",
        "=====================================================\n",
        "\n",
        "Sample Input1:\\\n",
        "1,2,3,4,5\\\n",
        "Sample output1:\\\n",
        "['1', '2', '3', '4', '5']\\\n",
        "Product:120\n",
        "\n",
        "=====================================================\n",
        "\n",
        "Sample Input2:\\\n",
        "10,0,20,3,1\\\n",
        "Sample Output2:\\\n",
        "['10', '0', '20', '3', '1']\\\n",
        "Product:0"
      ],
      "metadata": {
        "id": "EoYodvh6unyF"
      }
    },
    {
      "cell_type": "code",
      "source": [
        "\n",
        "string_input = input(\"Please enter a string of numbers: \")\n",
        "string = string_input.split(\",\")\n",
        "print(\"The list:\",string)\n",
        "multi = 1\n",
        "for i in string:\n",
        "  multi = multi * int(i)\n",
        "print(\"Product:\",multi)"
      ],
      "metadata": {
        "id": "KBZrhPi_yz34"
      },
      "execution_count": null,
      "outputs": []
    },
    {
      "cell_type": "markdown",
      "source": [
        "#Task 6\n",
        "Write a Python program that reads a number and finds the sum of the series of 1 +11 + 111 + 1111 + ....+N terms.\n",
        "\n",
        "=====================================================\n",
        "\n",
        "Sample Input1:\\\n",
        "5\\\n",
        "Sample Output1:\\\n",
        "1 + 11 + 111 + 1111 + 11111\\\n",
        "The Sum is: 12345\n",
        "\n",
        "=====================================================\n",
        "\n",
        "Sample Input2:\\\n",
        "8\\\n",
        "Sample Output2:\\\n",
        "1 + 11 + 111 + 1111 + 11111 + 111111 + 1111111 + 11111111\\\n",
        "The Sum is: 12345678\n",
        "\n",
        "===================================================="
      ],
      "metadata": {
        "id": "S4OADYid0WTu"
      }
    },
    {
      "cell_type": "code",
      "source": [
        "\n",
        "user = int(input())\n",
        "em_str = \"\"\n",
        "total = 0\n",
        "for i in range(user):\n",
        "  em_str = em_str + \"1\"\n",
        "  total = total + int(em_str)\n",
        "print(total)"
      ],
      "metadata": {
        "id": "NnWoBh_U0n7F"
      },
      "execution_count": null,
      "outputs": []
    },
    {
      "cell_type": "markdown",
      "source": [
        "#Task 7\n",
        "Write a Python program that reads a number and displays the multiplication table of the given integer.\\\n",
        "Sample Input: 15\\\n",
        "Sample Output :\\\n",
        "15X1=15\\\n",
        "15X2=30\\\n",
        "...\\\n",
        "...\\\n",
        "15X10=150"
      ],
      "metadata": {
        "id": "u8UiAqgUk-Tg"
      }
    },
    {
      "cell_type": "code",
      "source": [
        "\n",
        "numeral = int(input())\n",
        "for i in range(1,11):\n",
        "  multi = numeral * i\n",
        "  print(numeral,\"X\",i,\"=\",multi)"
      ],
      "metadata": {
        "id": "CP3lTpIflSl6"
      },
      "execution_count": null,
      "outputs": []
    },
    {
      "cell_type": "markdown",
      "source": [
        "# List 01"
      ],
      "metadata": {
        "id": "RXsdsibK16Fe"
      }
    },
    {
      "cell_type": "markdown",
      "source": [
        "#Task 01\n",
        "Assume, you have been given two lists. Print both lists simultaneously such that list1 should display items in original order and list2 in reverse order.\n",
        "\n",
        "=====================================================\n",
        "\n",
        "Given lists:\\\n",
        "List1 = [10,20,30,40]\\\n",
        "List2 = [100,200,300,400]\\\n",
        "Sample Output:\\\n",
        "10 400\\\n",
        "20 30\\\n",
        "30 200\\\n",
        "40 100\n",
        "\n",
        "=====================================================\n",
        "\n",
        "Given lists:\\\n",
        "List1 = [90,30,-30,20,12]\\\n",
        "List2 = [-8,-5,-2,100,6]\\\n",
        "Sample Output:\\\n",
        "90 6\\\n",
        "30 100\\\n",
        "-30 -2\n",
        "20 -5\n",
        "12 -8"
      ],
      "metadata": {
        "id": "HPqjvZsX1-eR"
      }
    },
    {
      "cell_type": "code",
      "source": [
        "\n",
        "list_1 = [10,20,30,40]\n",
        "list_2 = [100,200,300,400]\n",
        "list_3 = []\n",
        "for k in range(len(list_2)-1,-1,-1):\n",
        "  list_3.append(list_2[k])\n",
        "for i in range(0,len(list_1)):\n",
        "  for j in range(0,len(list_3)):\n",
        "    if i == j:\n",
        "      print(list_1[i],list_3[j])"
      ],
      "metadata": {
        "id": "urekrJOvdkrT"
      },
      "execution_count": null,
      "outputs": []
    },
    {
      "cell_type": "markdown",
      "source": [
        "#Task 2\n",
        "Write a Python program to reverse strings in a given list of string values without using reverse() or reversed().\\\n",
        "Sample Input: ['Red','Green','Blue','White','Black']\\\n",
        "Sample Output: ['deR', 'neerG', 'eulB', 'etihW', 'kcalB']"
      ],
      "metadata": {
        "id": "qN36Xga5e2e-"
      }
    },
    {
      "cell_type": "code",
      "source": [
        "\n",
        "list_1 = ['Red','Green','Blue','White','Black']\n",
        "new_list = []\n",
        "for i in list_1:\n",
        "  new = ''\n",
        "  for j in range(len(i)-1,-1,-1):\n",
        "    new = new + i[j]\n",
        "  new_list.append(new)\n",
        "print(new_list)"
      ],
      "metadata": {
        "id": "s46BoFTdedfH"
      },
      "execution_count": null,
      "outputs": []
    },
    {
      "cell_type": "markdown",
      "source": [
        "#Task 3\n",
        "Write a Python program that takes a list from the user. Then find the first even and first odd number in the list.\n",
        "\n",
        "=====================================================\n",
        "\n",
        "**Sample Input1:**\\\n",
        "[1, 3, 5, 7, 4, 1, 6, 8]\\\n",
        "**Sample Output1:**\\\n",
        "First even:4 and First odd:1\n",
        "\n",
        "=====================================================\n",
        "\n",
        "**Sample Input2:**\\\n",
        "[55, 5, 7, 9, 11]\\\n",
        "**Sample Output2:**\\\n",
        "First even: not found and First odd: 55\n",
        "\n",
        "=====================================================\n",
        "\n",
        "**Sample Input3**\\\n",
        "[50, 52, 6, 2, 10]\\\n",
        "**Sample Output3:**\\\n",
        "First even: 50 and First odd: not found"
      ],
      "metadata": {
        "id": "KlLFSr383XNA"
      }
    },
    {
      "cell_type": "code",
      "source": [
        "lst = list([55, 5, 7, 9, 11])\n",
        "for i in range(len(lst)):\n",
        "  if lst[i]%2 == 0:\n",
        "    even = lst[i]\n",
        "    break\n",
        "  else:\n",
        "    even = \"not found\"\n",
        "for i in range(len(lst)):\n",
        "  if lst[i]%2 != 0:\n",
        "    odd = lst[i]\n",
        "    break\n",
        "  else:\n",
        "    odd = \"not found\"\n",
        "\n",
        "print(\"First even:\", even,\"and First odd:\", odd)"
      ],
      "metadata": {
        "id": "9vM7RomE5k1Z",
        "colab": {
          "base_uri": "https://localhost:8080/"
        },
        "outputId": "a7587256-19d4-49b3-83c7-a937a06eeb9f"
      },
      "execution_count": 14,
      "outputs": [
        {
          "output_type": "stream",
          "name": "stdout",
          "text": [
            "First even: not found and First odd: 55\n"
          ]
        }
      ]
    },
    {
      "cell_type": "markdown",
      "source": [
        "#Task 4\n",
        "Assume, you have been given a list T and a number, N. Now, create a list by concatenating the input list which range goes from 1 to N.\n",
        "\n",
        "=====================================================\n",
        "\n",
        "**Sample input1:**\\\n",
        "T = ['p', 'q']\\\n",
        "N = 5\\\n",
        "**Sample Output1:**\\\n",
        "['p1', 'q1', 'p2', 'q2', 'p3', 'q3', 'p4', 'q4', 'p5', 'q5']\n",
        "\n",
        "=====================================================\n",
        "\n",
        "**Sample input2:**\\\n",
        "T = ['p', 'q', 'r']\\\n",
        "N = 3\\\n",
        "**Sample Output2:**\\\n",
        "['p1', 'q1', 'r1', 'p2', 'q2', 'r2', 'p3', 'q3', 'r3']\n",
        "\n",
        "=====================================================\n",
        "\n",
        "**Sample input3:**\\\n",
        "T = ['p', 'q', 'r','s']\\\n",
        "N = 2\\\n",
        "**Sample Output3:**\\\n",
        "['p1', 'q1', 'r1', 's1', 'p2', 'q2', 'r2', 's2']"
      ],
      "metadata": {
        "id": "VtmWWBXk39fk"
      }
    },
    {
      "cell_type": "code",
      "source": [
        "\n",
        "List1 = ['p', 'q', 'r','s']\n",
        "Numeral = 2\n",
        "new_list = []\n",
        "for i in List1:\n",
        "  for j in range(1,Numeral+1):\n",
        "    new = i + str(j)\n",
        "    new_list.append(new)\n",
        "print(new_list)"
      ],
      "metadata": {
        "id": "TAYDqebr37pT",
        "colab": {
          "base_uri": "https://localhost:8080/"
        },
        "outputId": "feaf519e-e0a8-425f-ccae-fe8540042c63"
      },
      "execution_count": 15,
      "outputs": [
        {
          "output_type": "stream",
          "name": "stdout",
          "text": [
            "['p1', 'p2', 'q1', 'q2', 'r1', 'r2', 's1', 's2']\n"
          ]
        }
      ]
    }
  ]
}