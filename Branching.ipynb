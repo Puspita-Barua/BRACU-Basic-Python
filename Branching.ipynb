{
  "nbformat": 4,
  "nbformat_minor": 0,
  "metadata": {
    "colab": {
      "private_outputs": true,
      "provenance": []
    },
    "kernelspec": {
      "name": "python3",
      "display_name": "Python 3"
    },
    "language_info": {
      "name": "python"
    }
  },
  "cells": [
    {
      "cell_type": "markdown",
      "source": [
        "#Task 1\n",
        "\n",
        "Write a Python function that takes the “amount” of money as user input. Then splits that money into 500, 100, 50, 20, 10, 5, 2, and 1 taka notes and print the final result.\n",
        "\n",
        "=====================================================\n",
        "\n",
        "#Hints:\n",
        "This task’s calculation is similar to Assignment-1’s seconds to hours, minutes conversion.\n",
        "\n",
        "=====================================================\n",
        "\n",
        "# Example1:\n",
        "\n",
        "Sample Input: 1234\n",
        "\n",
        "Sample Output:\n",
        "\n",
        "500 Taka: 2 note(s)\n",
        "\n",
        "100 Taka: 2 note(s)\n",
        "\n",
        "20 Taka: 1 note(s)\n",
        "\n",
        "10 Taka: 1 note(s)\n",
        "\n",
        "2 Taka: 2 note(s)\n",
        "\n",
        "=====================================================\n",
        "\n",
        "# Example2:\n",
        "\n",
        "Sample Input: 151\n",
        "\n",
        "Sample Output:\n",
        "\n",
        "100 Taka: 1 note(s)\n",
        "\n",
        "50 Taka: 1 note(s)\n",
        "\n",
        "1 Taka: 1 note(s)\n",
        "\n",
        "====================================================="
      ],
      "metadata": {
        "id": "pYYWXvbqj4XT"
      }
    },
    {
      "cell_type": "code",
      "execution_count": null,
      "metadata": {
        "id": "VBxNUwN3jwox"
      },
      "outputs": [],
      "source": [
        "num = int(input(\"Input the amount: \"))\n",
        "taka_500 = num//500\n",
        "left = num%500\n",
        "taka_100 = left//100\n",
        "left1 = left%100\n",
        "taka_50 = left1//50\n",
        "left2 = left1%50\n",
        "taka_20 = left2//20\n",
        "left3 = left2%20\n",
        "taka_10 = left3//10\n",
        "left4 = left3%10\n",
        "taka_5 = left4//5\n",
        "left5 = left4%5\n",
        "taka_2 = left5//2\n",
        "taka_1 = left5%2\n",
        "if taka_500 != 0:\n",
        "  print(\"500 Taka:\", taka_500, \"note(s)\")\n",
        "if taka_100 != 0:\n",
        "  print(\"100 Taka:\", taka_100, \"note(s)\")\n",
        "if taka_50 != 0:\n",
        "  print(\"50 Taka:\", taka_50, \"note(s)\")\n",
        "if taka_20 != 0:\n",
        "  print(\"20 Taka:\", taka_20, \"note(s)\")\n",
        "if taka_10 != 0:\n",
        "  print(\"10 Taka:\", taka_10, \"note(s)\")\n",
        "if taka_5 != 0:\n",
        "  print(\"5 Taka:\", taka_5, \"note(s)\")\n",
        "if taka_2 != 0:\n",
        "  print(\"2 Taka:\", taka_2, \"note(s)\")\n",
        "if taka_1 != 0:\n",
        "  print(\"1 Taka:\", taka_1, \"note(s)\")\n",
        ""
      ]
    },
    {
      "cell_type": "markdown",
      "source": [
        "#Task 2\n",
        "\n",
        "Write Python code of a program that reads three sides of a triangle and check weather the triangle is valid or not.\n",
        "\n",
        "=====================================================\n",
        "\n",
        "#Sample Input1:\n",
        "7, 10, 5\n",
        "#Sample Output1:\n",
        "Valid triangle\n",
        "\n",
        "=====================================================\n",
        "\n",
        "#Sample Input1:\n",
        "2, 2, 4\n",
        "#Sample Output1:\n",
        "Not a valid triangle\n",
        "\n",
        "=====================================================\n",
        "\n",
        "#Sample Input3:\n",
        "7, 9, 12\n",
        "#Sample Output3:\n",
        "Valid triangle"
      ],
      "metadata": {
        "id": "44VNEaKxkZkE"
      }
    },
    {
      "cell_type": "code",
      "source": [
        "\n",
        "num1 = int(input(\"Please enter the value of side: \"))\n",
        "num2 = int(input(\"Please enter the value of side: \"))\n",
        "num3 = int(input(\"Please enter the value of side: \"))\n",
        "if num1+num2 > num3 and num2+num3 > num1 and num3+num1 > num2:\n",
        "  print(\"Valid triangle\")\n",
        "else:\n",
        "  print(\"Not a valid triangle\")"
      ],
      "metadata": {
        "id": "nNYVLlxLkZ0d"
      },
      "execution_count": null,
      "outputs": []
    },
    {
      "cell_type": "markdown",
      "source": [
        "#Task 3\n",
        "Write a python code of a program that reads the values for the three sides x, y, and z of a triangle, and then calculates its area. The area is calculated as follows:\n",
        "\n",
        "![11.png](data:image/png;base64,iVBORw0KGgoAAAANSUhEUgAAAmwAAAA3CAIAAAA+IYFvAAAACXBIWXMAAA7EAAAOxAGVKw4bAAAgAElEQVR4nO2dd1wVx/bAZ3dv7417gXsvvXcEBAV7j7H3mNhimum9vPRn2numvBeTaBJ7bLE37L0DSkd67xdu73d35/cHFgQU9GcE8/b7n5dxPnN2Z+ecOefMGQRCCCgoKCgoKCjuHbS3B0BBQUFBQfGoQilRCgoKCgqK+4RSohQUFBQUFPcJpUQpKCgoKCjuE0qJUlBQUFBQ3CeUEqWgoKCgoLhPKCVKQUFBQUFxn1BKlIKCgoKC4j6h9fYA/lcgSdJms/X2KCgoHh4IgjAYDBqNWmQo/s5Q8/shYbVaN2zY4OPjgyBIb4+FguJhwOFwQkND3dzcensgFH0daNdlp+faxL6RgZ48JnZ/nRAOXWlOQT3TKzlKzXiw47srlBJ9GBAEUV9ff+TIkSVLlmDYfU4RCopHCwaDgaJUwIiie6CpeusP39XGzPv0xfH3rUSdpurDa5YfkM/aQinRvx8ul6u6unry5MkjRoyglhUKCor/CSCEkHS5XARE6XQ6DQMQkrgLJyFKY9CwHvjkIISQJFw4DgFKp9MxFAGQxHEcJwgEofWwEwAAaBsGQd6qFI8gGEan09D/v2uQWtAfBjiOV1ZWRkZG9vZAKCgoKB4SkLBVZ+xcMD7JI3jO6rQas9OlLzry8dTRYyZ/eq7a1KMenOb8wyvGD44JGvD8hrNldgI6jGVb3pwe5OEz4LFPrja5enh9irn2/BfTB/upVV7e3l5eaqWHws0j7OmlB+utxP9HwDYoJfowsNlsGRkZ3t7eVECUgoLifwPCbtQ0NMElS798Wl30x6bTVy8e/nnZH9lOcdiQaE9hDxyukLBoq2qM6m++eac/PXvnrrOVJgeDq0qeOi1B4i4LjfUQ03q4DzU3N7UKE178bkdaZvrRLf+dm5IQ+firLy5MlrMfQHCNcuf+5UAITSYThFAsFlNKlIKC4n8DjCVS9RslB4jRMsR75/Z1y3X+fmGjP3xrRKhKJmC4Ki+fSj2aoQUAAACtjecLi42G7T/ZcyVsDACUyfZMmjQx2Td4+KQAGlmR7LXuSE19q9EJ+EyAMpnSyJQZA+UMZ9X5/TsvlFgcBAAAtzamZ+SX87YtW5rHBgAAgHIECeNmDgmW0yW+I+aro2JDeLr8P3cfLRKPXvrh3Bi1kI4+gAWZUqJ/OSRJGgyGgQMH3ikaCiFJkhBBUfRRVrGQJCGE4B6l+HvIDgCAJEECBEXuTY428VG0p5Gdvsf9vXaK/wkQFGOw2JBEAmNDXWv2OGRTps6Z0M9HQkMAIEgGRyBTKOgAAACg2cVjMl08oUyucONgAKAMloTHoKEYncWmA+gRGKXcd7GuptlMyCwlhUWW/sMmxrszEILBFcnlCquTAAC4LC4Bl8XgieQKBQcAAADK4vFZNAQgUt+4yT4uQ0321lXrzrYqnnv7qeHBsgc1Ye9fiULCadIaXCyBlM98QIP5e0IQRG1trY+PT+c/QdJlam2sKCooaDa6hQ0bFiJ7VDN3oaMhJz0zr4YREBEW6Ocu5XYrCCRdxqbqwtKSimtE+IjEUD9ZD10zfQ8IIV5+Ydu5FmlwQFCwn1LIZnRr4JK43aCpL7mWl6VjDEpJCVbwHsXICnTq89OvZJfZ/KNDAwO8ZNyHmRT5kIG4zdjUrDHZcAAAgtB4YrlCxqc9iK3M3xoSt+mqNA6MgSqCw3w9BNc/c4zjGTlwZuTA64002RXnsmtjRs16ary/pJNCQXi+EcHgfF5po0bDbc2vxMZNG+LNxQDAPGJGzo253srWko0XF2vlo+Y9M1ncoQeI6+sKUjdtOVRKn/D0k2Mj3R/ga7vvLxfaWkv2rfz59+PFDyAy+7emLTVXLpd3+B0SDk1F1u4Nq/+95mCNg+/OYzzCnyOCskQixFGTuv73X1bvyazROom7hvyhq6k4bfPPP/+8+ZyGzeHwmY+w7AAAgHAFMnPhyZ9/+mnD/ksVGhMB7yY+6TTX5F/44+efvt181oHxBUzsERUfQelCMctZe2nDj7/8vvt8dYv17q/9UYY01+dsX/nPZ+fPnTF9+sxZz/x7/Vmjk+ztUfVtIOm0tGSdPLi5yBkoJHT1GvN9PjGaVOkjxm1VJdmnzl7USvxGxajuZf8HrdrqU7u2b8+wDXpi4ZQUX0d9SWmrnXxAc/V+lSh0NRVm7D68a8Ouc/U2Et51yfgfx2Kx4DguEona/wgJp67qytaVP29Ns05Y8uZbc8ZGqASP4l7kBnSJT8TY+UuWzEo0HF3xwVdrM2sMxB0mKSQc+qq0X5d+ub9aMu+ll557cpi/nP+oqhEAAEAQhOYeNfq5l15dlMA8+tuPK7adqTXY79QaEvaGa2dX//Tb7kr5ko8+emlyslLEflSlp/G8wlLmvfbKEyM9T/y8bOmq41VGx99UsWAi/4EzJo9VQUNRfn5+flF1k574m4r6IIAum74y+/zeLeu+/i09dvLTTw720xXkl9c21JXWtOis96rAOHK1D89WcHj3zjwiZFCKl4jV85EQtpYrB/7YergkdOLcpydE0lsL/vj8/f9cbO7G0O8x97duQ8LamHP+TG52Sc2h3bvztJQKvQsGg0Eul3M4nHa/keaG/O0rftmZz5z+/OLJMapHWX3eAqXx/AdOeOOTZ9T5W/+16kCV3t55kYEkbqrN/On9dzdrIl54c2FKiOJR3oDfBo3nMeSJV16dEVC4b8vq1GyDq6slFrr05Zc2/rIqzRb8j08WD/ES/A2kp3HkiROe+PyFxKJN3/++LV1nw3t7RH8RmECu8uUJ6L09jkcASBhrrqx+/bkXPzsSOnHOrKTohJGDMdPljZv/2Hkgo7rJ3PHbQBAMw7A7H9pkiJQqD7Sy1OAbPnRUlJLeZTMEQVEM6+BgJyylRzf+97sNBUanq/Ls7z98968vv/3lCJYQIMUe0LJ7fzFRQl+Ze+bchUqTzeXM2bH29LToKR4MKrGga3Q6nVAoZLFumU6kw3jl6I7151riFix+LNHvkXXmdQFK53n1G/v0M8VvfL1ha3z0S+PC+IzbpiphbT6/be2K08wX1yxOCVYw/14hJYQlT5owOzfvmw2btoSG+k2Pld/+gUGnoebY9g3bc/AZ701J8pH00jAfOAidI495bM7zeblLf13VL8F/YqR792Fhir8xCMpThE3/6D+DMY+ouCARi8EduugLcf9mKPAPDPFVCDokQCB87zlvvmMTqRXcrk0U6HDYWcqEaYPmTomX3eFcCoPnPe6ZV/sxlLzbuqYJ/Ac+97nPTb3tFxA2cKIq0Zf9oJIw7keJQqsm68SxIyfLnABCh7b0bGp2zRh3Px6lRbskNzeXRqPR6bcmh7U5/9j+i6R70mPDYrs+qAQhSRI4TpBtfnIEpdEwtJczICGJEzhBABSj0W6mU0CSIFw4gdz6EcFYkshBjw/aenDV+tTRib7RCm67yepqrcreeuicc/iLMwd48buu7wXJG8KDG8Ylht5r3uuDBJIEjuMEQOk02k07F0KScLlwEgKAYHQG/bolhHDdAkeOTjr+waYd284nB09Uc9rJCF0N1y6n7s/mBM4eHhfI6fIjhpC4/uYhAACgGB3D7jnr90ECSQJ34V0EeZG2t95mzyMYU+Q1aMb04ENfbTxwdYDfKE/+38bFQHEfoEyhR9Rwj5v/Zgo94wd73qk1whSGJyZ2/p0kcBKgKKk9t21Tljlw0cuPRbix77SBxJhC/+gE/44DYXmE9/cIvw8Resp9KFFCV1tZpQPBKUn6cxdrba7G6vN7D2UnPTNA3H7PAQm7ruFadokeAAAARhf4hIYoBZixtaG8SoOzZAFBXlI2DbT591rryyrr9BYnW6r091ZKBe0fE3TZzAZDa0NVXavVCRAaX670UnnKBKyuP1FImFtqi6+VG7rJd0I4ElVwkI+I3aMnAEmXVa+prqps1EOJ0ttbKQFOG8YR3UEN3MJkMrFYLE9Pz3bnW1zVV0+cqsV9piRGqridpSAdhrLsjLTMrOxrVXqL1eUwNxhoUXExCeNmPR7jyab3SgIvoa28smPt+q07rjCjJ7z63qLh4e40iOuqsvdsWf3r3izf4S9++tbUQDELAAAQlCP3GRIf/Od/U0/kTA0c6ie4MTGgw1CWfjonnzP32WQFm975YyBxa3Np5rFjWSW1RXVaO3Ra9WZS4tdv7MiRQwZFye74+fxlQMKhr7t0cOt/1u7Ixf2ff/3d+SNDpWw6AkhLc+GhVct/2nW20ap64pv/vD0ugIWhAACExlKGxCREbtuQfjyzYpAyXHZz0ITDmJt2/rxRODplgK9b56AOJKyt1zIuX8rKyc6rskPcadGWGSUjh/cfMnZCSrA7vTc8Frit5fC6ZV+sP89TeKmkXAwBABKGpsri8nogT375o3fmDA7k0FAAAILQZV5R8RHC77cfyZqWKAuU9kk3A3RZddWlxdWtN69UQjhSdYiaW11a0Wq2XzcVEBpL6B0d5W6pKCmuaXYiNLF7QFCAonNn+obqyooaPcpX+fiq3QTM21yE0GkzaWoqqpr0BI2nUHurFRI2HQUAuqzakvyCJjMOAABMvqdvoL+CY21trCmrNqBi/xB/NwETBQCQLouxpaasRmO00zhu3kFechH3LvsnSOJWXWN5RVWLCXFTe6vceJAkMI6orbMOT6G2orSirrW7tFCWxN0vOEjO6oW5BwmHMX3Xf9cXCEOxsuPZ2Ninxw8KcuuDp8HuWYlC3FZZWacTDnz6WR9LQ0ldXiNhrLt8+lTFlCihJx9t186uqz635Ze1Jy7Wm3GurN+b3345nF+1688t24/m2eWJL3z4/uJhvgxoLb90bMeRS40uBgtYNHpcHtB/ypRxMd5iGgIAievrrh3Ye0pL5zEsTXX1lXmXczRMVeLQ8bOfnBLrLehCn0Bb7ZU9n73yVVo3VaXo/sMWLfvy9SQfYfcyk7iuMnvv5u1pWlIscPP2rcl3aTUOQcqkyXG3ew46o9PpUBT19Gxngrk0WScvmhBBRLi/jNVJAtJVn3Pix683GwOHzVvwcrCC49RVH13z85c/7+YkTBnbO8FniOtKDhw4ntOKi+V4xok/d8THJASMYlur9u/482IdrhAiQpVYeMueQFAGzz8qjM84ffBs/tQEFZ/RZvGQdl1dVkZ6ncR3UIQns9NiAEmXvurqr0s/24eP+/LtJcEeQtTaeGrnuh+3HKXJo5MHP1SZ20bkNDflntix41ylSMTVHz+wcnlYQrg62VeMIShH6p0waljI4f0Xaz1kUk67nSLCk7gHBqhsZ3Izc2tGhUrZN3SJw1ibl54PJN5REb4CRqd1DbeUnt3xw0/HBYMmL3jzCU8BZm4o2P6vr9asNqgTRg18iGK3x2VpLCuopKmS5r/wVEqQnIlCa0vhH8uWnrmIR49MjPCX31IbCErnSSOCfJh7L5zPrRvgJWY+iHIwDxyXpSX/5NbvNhwqqtMDgHAEobPefMuDr8o6uXPTjtTcWi0BaJKQQbNmLwkMl7SWZ+9esfK0zW/2/BdUPvL2hg90msov7dq3bc+JExeqaJ4DRz2x5JkZKWHubef3ISTtreWH9uy9UtwCmJjDoDUTbomjJ40fGenGQVy2lqwj67/ddLxeawOeMfPe+fj5GHz/ho27dx6ro0c8+9Gnz06K5qKOmqxT+w5erNISTBqubzYC34jJM6cOCXandWVMQtJprs3e+Mv6fJwr4sq8fCvpJo2B4Tlo0uR+ik6TzdJweM2yb9YeNXfztFQjZr3/1VeT1b2R+kbi1tq8U3+srY9NGDrtifmPJ4cIWX2xsME9j8lp1tTWGeT9hw9QNl0K9j5T0GglzXlpZ9JL5oS6826uFwBlinzjpjwz7fjlk1dLW1iu4sysq+4epBN3mrXVJY3w1NW6OYMUmowdH33wfT6S+PGyf4wNQI7+9q/Pl/9QbcA+fmVyoITuMFXv+e2rj1akRT/50RfvLAmg1277/P3PVuxcfim7xshf9vEkFbeTgYQwpH7x0559qb/j7nKgUv8ET2GPTri6rE2X9236ZWN68sc/fzA9BG8uP7115YkSUfRoF4SQIAidTldUVMRisWJiYjrcnqjVap1Op1QqvfkLNFZlpdeyGYMifLvIqSGchrRTB/YXWJ+cOSAuMkCIIVAhmzBtzMr956P9pYwuv56/HMJUcU3DCZn32pOcol0fvv/v9NzcZn1065kd5wzq+W+9Jm/N0wrChMxbgiMoUxkUqpCQRefz6hcP8RGxMAQAiJu1tcW5FbzQpBAFt7N/ksRNJecObTpZGvLZqAFRQTw6CqDbiNHDrlbj3ACVkPXwt6GkTa8pqXANXPjeSF6WIf+F0zmnsstnJHiJ2DQEpTH5EqlYKPKK7z8gQEJrp0QZPEmAn7+PKb28uMrujGbfcJrYmsuL8o3ufoHh3tJOHx506iqPHNh7okrw7muJkUHeDARAhXT+gov7luI+7sKO6RIPC4e2yWBWTZu3YNrQCBYgcVvD8S2btx4qcktc9Pqzk6LVovZfIMrkB0YGSfmpF/Ir9SOCxew+GO1HODLfoVOfqCgu/uq31CYXJmHGRSTEe3jLps9foK8vTv/1oBancRN9Ro+PljF4spFjRl/K5Po8Pm1slJSFWW70QpLmwsxLJ32iGHIlj49pstP31mhpEg8/70nefAaAJG6uSv3pn59tL05Y8OGHi4agJYe++fCbpVfqUdG7s1P8ONLACTOmbdt9PLugkXDVlGZcyWQJDU6nQddU2uJIy6h4cnyEtfzkT0u/Sa33WPzJR08li4sOrHz3s++u6YDXp4sChKxOXw90GuvO/bF82bq8xb9vfHmUr6224MCG9NxWV79xOAAdA40IUxQ95PFnecHObh6XMCAqqGMA8w6sW7euuLi4Jy17COk0FpwuMJsQK26uSNvzS9a+B9j5XfD19V28eHHP29+rEiU05dmVVuEwPzmPzxk8LGntsexqg91Vl7f3ZOboaKWPqN2BP5TGFsoEIjYAwGnWFOY1z33sqRdSIvh0/p+5zMGxHnhN5q9ffL/tYvXIZ9+I9pNz+SA0MszLtfnon1sS+0d7jfG3tJaeO3iiqdVQmnm1on5kaKTM01PKoxMOc3XascOFz49R+XBBh/eLMNyCBs5760Ea7g5t1eVTaaVNTW7pGYX9FWFegaOefJ52sYCNgurq6uzs7MLCQolE4nA4/P39xeJbx3whhLW1tY2NjULhzf0utDXXFOntpELA68qqgoSzVafTWwytrS1Gq0vAZyAIXRoy5It/h0UpufTuXBmE06Jr0VtdeA+2rAjG5EikEk4XXtWOLVnKftOUfLmUb8dDAgPd0koKL505WnTCMfKZubFqBdvHo9N/QZkcvohOJ6sqWrQ2Ui3EEASQTrOmvrbcKPQVcrrSCZB0GVtazHabub5Waw3kCFgogkn8EuY/o0LcVN3aOyRu12m1Zpure9EBQDGOSCrisbvO8rvZiiVSJ06cLfNT8u2WFF+3002lBZUNNsKfTcMA4TA11tY3sIfMSvHpsKhhdA6fJ2CZqlsarS5CfF39k6am2kozyWAKeJ09EADgNnOT3qCzwpZWnc1JMJgYgjDd4md++jER6cHrRh1B6LSadDqDvQenLhAEpXH4MrGQ0QMdx5KFTFzsIQ0NYCGkw9h4Zf9vH/93H+435q3XnhgQKGN1eI0IyhYK6Ey8uqhWZ3P5iO8Qc+ldELpAGT520oRjZ6+m5jYZWwvOnModGTJYwpPK5TIWmwF1Dl1B1rmCpv6ePNLQWMiJmzA0ylPQ4SgzBBxpv7FPDlbhno6qK/l1Wlt9blperWGsN59OOHTXUtd8+tO2auXo1waEKYVc4BsWHeW5YUXqhl3xg6JVvkImVyCRsNkYAIShsaywEp/5/OKXowPY6Mr9moR4X7azcuvKH7ccLfaePikpykckpPlHx/fzXLVq5+bNo0e8Nyao47uDhLW5LHX7mRoLlp+eWRYuDVJFTHhyrjC3ASO6cNkibGnC2JkJYx/kc926devBgwcfZI83yNj/R8b+v6Ljrhk8ePBfqEQhri/LKhX4D1OLWBidHpo0KMlzW7WhHuCNp1JP5sxI8RTIuwyEkAhNoPTx8pLJuLL5b3821ojIPfn1R7duu1SMMwTiAJWQQwMIyebzpBxCV12QlVtqGxHAkfgPGzu2GC9QxATKuIhR09jUoneQAADCiest9q4y6SHpMGsb6zXWbhYThMEVe7jLOIzuPU6QwJ12h01feXLNV7C1ctHzc4eEq1KGKUiUlX4hAwAwcuRIiUSyfv362tpakUh0M03bZrO5XC6lUtkuq4g0aerqXS5UIOB2FY7FGPzwsMgw+u+pf24IVotmD42QCVgMkXrs4+puxwkAMJadXfbx8tMVjT3QJDRZ6NC3Pnl/RICwu5UOYyu8vQEAANLlXqHe3sixYz+uZD/99qvjojzZXeeJIzQ234PGIK1VDa1mggR0FEDcZdY012gQCVfI7KrQC0rjeUfFBEr2ZP7xw4ZA3ryxcZ5CNlPgGR19x3yEdpCWxoLlXy/dd6m6B40BXzz4xU9fmZjkfTdFgiBMvsSPLwEAAI57/2Eh9IwzdVUak4uQMDHSaW2qrNGwQheMiBV0SEVFaWyhiC+CJQ11Wgeu5Le9fULXUq+BwEsk4HSxq0ZYEs+E8DD18dQdW7YEKUVj+nnzWXS6LHT06J5I7yg/v3PZ16uzjNZu2yIoUz1s3r/eme8v7V7JsSSq6IGqtgBV2cW9S79ZUwxCXn/puUkDAwSdvh0EYGy+kM5kWIuqW4wO0oPfF6OiAACUrY5JGTsg8kxhk9HSkHHhQs2M/hx6sxOXxET4Np/JNzXmp57OWzzM21VeQQb6KiW8DkVWUZQXEBYd7SVh0sxCPp+BIoAg8RajyYYDCB36ysOrtuVpXH4xKm+ZkIEiJIMj5AtptpaCc1ml2lm+7X1gBF0s8/H3Vitk6ISXP+s3wyr2UsHyzev2Xa63igYo1G4iFgogky3gyzjWi7l/nit8ZWQAHbt94kIACdxmdTpNzXuWf2Ftrp6/YNqAoOBhw4NQOruLJ0A4tZomja7TUZOO0HlCN3d3YfeW9v8w96REoaMm/dRVTkqsJ5eOIigiDYh7anbcjk/qCUBa0/ftOzurv7fEg9dFjjLGYrj7uQuZGIJhEg8viQcg7E1XS8p0VgdACVNrTUlhgYYGGyvrDS6SJHRVTfU2FxSJ/J/459on/knaTa0V165sWb11258nqu7up4WW0hO/PT//g3OGu8vCCBn30q8/fjTIX3T3dgAAppt3bEKg+Gx2va4kdd3nqWlXPv/w7Xmj45QSxqhRo9ra4Dg+aNCg3Nzc0NDQmx5ds9nscrkCAwPbdUY6rFYnSbJpNKwr3yxC5/UbOW321fxla/Z8825ryzsvzZ+Q7C3h9bC6GCRwp91mtfXkpB7Nbnfc42ljhMYTq708FRyGYuTEBWOD73LgGcFoTBR14U31urbyPQggcYfdbiFRCY3eZa4pSuP4DBj/3qLzz3y35+sPX2to/McLU4b4K8Wsnn3BEJJOh91ms3XfFAAa29FVwumdQXm+4cEs5IyhstFgxQGPZtM35hU2MAZMHRQh7zQ+BKPRaRjQ1bdq7C4A2lYxwmmzuSDA6LQuvfIYTzVy5pNZ18pX7l73elnj20tfmjYo2oPP6qEjlyRwu83WE/ERBNqdLvJepIckrq24suXX1RfqwfB3P3pmSn+3rnOLEYxGR1AUb6rT6e0khKDvpYEAAABAmCJV/KB40fazRq2toPByTk2jAC1mDRi3EDWVXcwvNOlLDl7Ie3kQVmgLCVIIOJ3XSYSOYR2mMSRISAIACYe2Ib1ICwAgbcba8uICXECa6+tbjJAkHfUN1U1W4NsuFYMpkHsq5UI6gqJcmTJIBiB0VJQVlBqsOORZtA3lRQV2NjTXVmnNTpJwFGVXtBAkH96uRVGU4+47cnjQxqJ6U0v+zp/fO5ae+cGbLz41Jk7B62KfQBoq/vjn2x/9vM/YzYPyGb9g6fKf5vhwuv8G1Wp1WFhYt836Pl2WaL0L96JECWPOkcPXXAj97N6qTDoAALqsjU0kCwALAABUn0w9UzwyTO4v7WzcoyjK4jDb+86g09pU1exwEAA15x/c+GPVybYAimDI1Hk0hkekZ5vagC5rTeGFHZu3HMkw9Z8/+zkOqf33+lxLx/5vgdBF6qjH5i4M7GYxwTwiExT8HpX6pHM8UqbNm59Tvebg+UYnANcOfPlsceEr776xZHqsStg2uTAMCwoKWr9+/bhx425uRo1Go9lsVqlU7TrDDRqNy+Hsyji8LgDLPXzxR1/7+wesWLfj27cWHTn74tK3nxka7NYTPSqJePy7fY/3RKj7AwKUzmKhdFJrtLkgYAHQ0Z1+Z0jcaTC0NAJw5z01wuCqRr7x/Q7fmH/9vHbTP55PPzXvjfdemJDgy+k+GIwK1PFf/Jb6RU+Hc69gErW/NwqszfVaoxNKQe21nKvFzBkfD1Lc3SV8C5dB04I77xKEQrm+Ka8uXRbgt2LFln3vLDx3/OmPvn5jdogbp/vzLRgrbNziP8bdgw/qHoAuU2329t9/3JBhipn/6bJnh7j3xWDnvYHROD4R8f0kvGqt3Vacd+TEMYKGhE2MdcPioiLcCjO1+voze46MjGVgsV5uHb3WdwVC0qJvKcKdABCasrRNv+Knr5fXkUxdOI8jCHDvUFgapTNYrHbpDhAAe1NlNe7CAWjNvbhjhf2qoG2OeQxbOI+GylRYF7YJyhR4j37prWcKWrdczGtxQmP69q9fLy1Z8sarz0wOV3TUgQhTGJY0Yq5NdsfCWteRRSX7dRdLuM7KlSt70uzvR8+VKHRoSo80CEP8pYobJ8AQBkcRPvSJcaW/HSwCADRfPnQh7/F4bzG3J1sHFGMyaCgCAMqJHL74yw8eV988ZosgCIKgKEK6TDkH1jrUNZMAABQBSURBVCz7/pcjhej4lz9bMCaupLa72DLC8owd985/x3RrZyMIeqdrVTq2ROnysMGvffNNUMTv327cl1fZareU7V631ico3O/JxLYr7RAEkUql4eHhGRkZQ4cOpdPpEMKmpqby8nKZTNauM4wrEmL0uz92lCX2G7XoHa/IWL///rBq+8ofPLwi3p+t4PV0tf6rIB2aoqys3BILCbWnc6sdk8O7K3lLQ3kizvUlCMHoXK6gY2HoDiAIxpT2m7bku7DI9f/51897t/72i6e/+pl4Ff9BCXG/IEx3n3AhcspS36i3Ok3aa/lV/EHjxwTd0RmOIIAt5PBvHUmicYQCjNbNqxcpo6a9+klwfNx//v39zt++/y447Lsn+gu6O0n1V0JaNWUHNqz4YUuOZ8rCL16c7MundavTUZ6Iw6EjPbewHj4oTegVNXdiv93fHQHO2qNrf0Vmvpcikqtl/QcnxZzOO9Kszd204lfB86+MFd1jShuC0OgMOooCABjq6AUffD01xvNW5jqCIN0vOyiTw0RRBABuYMqsf3wyP9KtnbmPdK7KA0DbSd3gEf/4ZXnw6l++/eNgRaNB35C19be1nt4hXk/ECm9XhAhXMXzuS8Pm9GiZ7K2ktkeFHk8P6KrJKWaq4ucsembRwpssWvT0My8smBzGRRAArPrCk4cuVxq6yYttA2Fw3AOVLDYNuKx1xQVNehftJhiKIghCErrys8v//f3O80U4GjEoOdZD2KMy5QiCYhitWzo5Y+7aJ43tFpg06+0vVi7/YkE/JQcjrQ0V+bnFzaZbQXsGgzF16tRdu3ZZLBYAAEEQOI4HBAQwme1zYmgylY+MyXDpdUZzp00JJInrTkaExhaHDhi75MWFYzwsV7OzGq09vcP9L4M0Nxamnkir9hg8JFSFVJVXtThh211eXXgGSZdFX+N0ECiXx2KgAAFtlxu5e/pzHRpDq93VyZEMIUG0FZdAMDpbHTn8xdefH6HkNBflljZ2l4f/UECEnoGBUog4bU5bY0n2FZ1w+OgoSZf2Iumy6Fq1rRYmj9VuD82QK73EKLC26ky2jqEoCMkb0qMsoXu/kdNfe/nJaFbtoYvXdE68F0u04rbWS/v++OG346jfyJdffTLBW4QgABIE0VVlZAhwi77VabdjHC6L2b2u7VVQJt994KTxUQhAAN7aLI4aEK6QcllSv8RBA/yUfOhwWJuNMl9//j2ezEYQjCtxj2MwAYCG0qrCUo0N3FqPUBTtzrZAAGB5+Acy6HQAtLll+SXNJtB+cbxTaTwIIMKUBycv/OCbVcs/nROjEtBIc23JtezCVkvnGYSgPV4m70n8/0F6pkQhaddWHLxaLvb28xTdpskQBten3+ihCb50BCFdxsL0U2czq203VkhIEuQdKg2jGM+nX2KEhxiB9oIrh/48cqGsxYwTJOG0NFUWZhdWW+325oILp7Lr7Dd6I+w2s9nmIgAAEELyTvXNHzh2bdnpk1dqdU620D1h+KyP/vvFtHA3LocvFok57U4xoyiqVCq9vLyqqqpIksRxvC1ft4PcXLlXEIfuMtc3aq23CwDtlUc+f2315XJtW3ItSmOJPdTeKiGDRsd6zaonzc1NjU16fXPV6f1niy2+U6c/NjTRByWyUy+U25ymwoPb92eU6u0dMwBxp91EEAzPaB+l8Hr0BmPwFJ5qH2ZtQ12zvYNNQBiqLq39ffnO7MbrHSE0odLHR8blMOi0PuI7xNyjhkThuKGy6NLJ02Wq0Nh+alHXIyMJh83mcIojfIKkrJspAqhQoVazcIO+rlHXwdAk69J2L/9hf1FLW1oQgtI5bkpvNymPzaDfuZ7oXw7pNOQf27JqdarRPXHxq8+OjFUzUEA6tKdW/7R88/kmS+fIO3TabIQL8RgYphT3xgH9ewGhMUVBiROTPVGU7jk4JTHUg09HAcpVh/cLD/Ci07juXskJgbJ7PlaGoEyZz9ipcXwASH3Rnm17zuVUGuw4JAmbvqEkO7fMYANtdbnuGJemySIGPR4i59JIzaWTe7cdz6vSOklI4o7W2rKzl0oseGcblLC0FG7dlq51AbZYlTJu3ntL3xkbpWSxBUKRpJsk9L4NxB0mQ3N5XmbG5UuXLmVeK6032np9R3EbPXDnQtJpbEg/vGlPWunkhGkogO3jYAiC8RUBceEhW89WthKuhsJzW7fuCfZdlOwrZaC43aQzG2wAAJLAjTqD1UXyb2T0IShDHpL8wrzxNcv/LGrI3LjiW1NVXmKAnEGHCNM9ql88g46iGEYjSQCAzZJzeP8evsmv0UwQDAaw4xZdxdlzl/orhyqF9xSwuB8Iqy5/955zBU2zpg30lgvVEdGBSqmaGztgYJDsdk8PnU7v379/Tk5OcHCww+FobGxMSkrq0Bsm8YoMlpwp1lRrDCTwbGflOhtyzu47lY0MDPVxi1cImC6LtrQgv9TkNnzsAI/euiiNsOcd2Lo7Wy+Skhab+/BZQ+O82YxQPxY4emjdbyGtfppi14CnBnY4wAqhq7W2SmN2yUdFKCXc6y8IofGkKt9QpSWzqc7kjFHAW64A0t5akXt68y6ewz/Jd5RKyCCd5sqczBI9LyAlMUQpeNhSdwnCVgUE8PQ7j+86OHDE+Jn9w8R3OPqN28z1dXXVqPskf19euxoUHIV3gDf7qqm+usVE+nHbPTJH+ZVju49DRrS/R0qwkIk6jc2FuQU6ZticYdHi3qqtTNrrsw6vWbnuil064fmnZ4+KlLJQSNrr805v3HVWMSuhc34UdNnqy6pNRtmQmEApt8+X/UNoTJH/sOnD12SdHzQw3t+NT0MAAKhIHT50YOz+AhAxeqi/pL0U0GE1GpwOAgAIcKPJaMcJAtiNZrMTQgBIp8ukN9shQOhc95S5C2afK96WXlZweP33tNbclFi1iIVATOgfkcymA0DYzHq93U4AAAi7Ua832lyKGymZCALoin5zn56d07r+cnHpwQ0/AWNJSpwfF0Ehxg9JGtjm6r0diBtbcletL7da5zwW6yUTq0NC1R6ePvyoAYNDxJ0qFj0iQNJpzjl/6FBauV2ndULc0Kg1IeL+U2bMGZMg7TOFF7BPP/30Ln+GEDfV5f2xZuXKX9eeyW2wWCymFhtbKpcJ2SiCkLhNU3xx3dZ9F85dLKhpwREEEKaGhmqNDnX39BA6qvb9umrf+Xy9EwIS2m2QLfZQK92vl8pDEBpLFBgTKaPZTHp9Xf7VS+dPpxXWWFFpzJBRA0LdmSiC0YG2KLewodVF5/M4HLFPTGKc0txYeq3KgGEiqZdvfHyEO5/5VxvquKUxN7uoqdXscGryMs6fPnalxsIZOGXB9NEx0k4H/uh0elZWlp+fn8vlSktLi4+P5/Fur2pE5xC6vNRLVWx1/OB431vlKQDeUpp3raGmtKysvLy0OCcz4/KVrJIGJGjk8/Mn+El75bYsSDh0J7avWPb7vnpE/dj8WWPivNk0OoMOGwuunjl88GoZ0W/2nEnJweIOzwE35hzYvPmAZvTLSx6PVt6IkaN0GmKqKzx1pFQ5YmySr/hWqhR06uurSnIKKytKiyuqSvKzLl++ciXrGqFOmb1wUpyPuG/U+kJwU+WZzfsLbOrxs2aPiFXdYasFrZrSI7u3HrOpn5g/M95beHMBQ2mYpjLjcIZGGZ40INy93WEwZ/21zLyqioLC4vKykoLMqxmXM3Or9R4p01+cntRL+wjo0JZs+vHbX/dfdcn8Q5Xs5pKc9PS0y5fO7t+47kAZY9L8Gf19JLdn6ELC1HRw07p9ZT4vvDYr1ktI7+ueQARF6TwBVlmsT54+MylY1naJBkZnYi5TzjXWnDfnxstvngIiLY0FB/7csPl4epPZCRDCSuCEwgOtOL5524H8Wh0AgAQOJ1voFRikEvPYcv+YcAWuNzQ1VWRnXLx0MbNc4xD5xI0YGu8poDn0VYc2rdpyPENndaEk7nBYnRyJWuVxw/JAAMryCAxRcFCbubW+Ki/t4oXzacUGyA4eOGJEjFdXZhXpNNanpV+zOHCntf5q2vkLZ3I0pGL4tLkzRkWIHtmdqMtYt2rZP//IZE9f8uLTcx5P8kfT9m7ccVYXOSTZX3rn7MyHSw+UOYIxZAHjF74/HgAAAAMDt98eCkkaP27K03FT2nVKlzIxABG61D95ycfJN36mu3XIFEdQTOA/45XPolImXs0r1ZOYPLBfYlSoWtFWz48m8k5+4cvvwtLyLXTvhKToYF8PFm6Q8d1iH6ti8IMHj0nwlvEewnfKEPmOXfKyTIA1lRRkZGkxYcjsd58M9feScDrVAUEQmUwmFApLS0tFIpFYLL79BrQ2WP4JQ2PFuRVXs4qaByR5cm5IwFAnP/FZ0Oiya9nFNTqChEyR17Bhk8L9veU9Cwb/JWDssFEzP/KfGdG/f2yoik1DAUAk/klvf/5V+JhSSXDikIGhUm6HWUTatPXnr1wzq5KHRau57erboWxJSEJylOrC3qNZi5K9PW7sUQHK9owZ/cKX4dVFBbmVTS6CAAxJ3ITFkWGBCiG7h8d7/nogwuB4BMbPnvDUhGR//h3KuEDC0VBacPWqKSxkfIyfrL1xQWNKIuKSwnZuLricWTs2LFR6M1jOinzs2X/G1l0ryK9sMpMQYcsCJjw+O8zbQ8jpvfUP5QYOm/lOwPVDXETbmX2E4z945nvT/QcHunUcGenSNRReLaj3HDMx2lv0aNxNhGJCn4EvfOwuD1TeNGcRjOUdO+q9txNC/W+/qA4iIt/+i968WcscARwahkpHzHpp8PTrSyJNIrt+cQDKUCdOf//biKEXMiuajWyhMjQ+LtzPU8imAUBCgPJUsS+9E3ZzJWUI6B1clHSecuy8VyISB1/OKdaYEJF7cFJypLdCfIeKxChLHjT9k09DlGh59tW0XB1X2W/u9NiwQPW95kX1KTCOdMzsV+KFoYOivXhMjBsaNzg6KGN7eUmdaXRgN0mKDw9I8UAhSfLYsWMbN27ctWvXkSNHbDZb5zZOY9XGTxeFJUz/dHuOAScf/iD/UkiXqfjEr2PCE+Z8fbDW5LxdPNLalP/TS+NlqpkbM5usLqKXxngfkIRDc/iX91/4dO2VGj1+52YOQ/XWr5ZEJ0xdui3H1PHlEsaqtG+fGx+SPP/3M+WOv9WbJ12WpjO/vhYZNHzpvhyj4xF6sxSPDKStavuHc1PCp/x+vra3x3KLR9hI6ZsgCBISEmI0GtPT08Vicfsb0G5C5ytHTp062q3p+O4DuTWmPhUk/38CocvcXLxn7foKz8HPzUhUcDtsVxCWLGD6gqeimae++/1otcH+gO6W/6uBkHDUHPt92TrT0LHDIzy6uvngeju8PvvIjtRryuGTZo8K7XTADuWrI6bOnZZEK05NPdts6q5w6aMDxG0tJedW/3TQbfCsmQMDeJ3K61NQ/H+BpK2h/GpFI+yX0D+oD93F201MlOI+4HA4qampR48eHTdunFKp7Cq5EmWL5GoFWnLpXG4z6hfs68brPYftgwOSTl117v7flm9Ip8975/UJcSpmp9RSBEFZMs8Eb8bZHQfqgFuAv1LI6aMrLiQcmtrSfA0hZTtLju/49qeclLdfnpLow7tDqUjSZanPPrzilx2t0oFLXpwdp+R18eoRukCuVAgcV05dLHRIwoJU/EfD73k3SJe1Jv/s7z+svsjs//b7ixO8hL2YUUzxNwXadeWHNm86XiKc+ez8IaHufSfiTinRBw+KomKxmM1mx8XFta9H3x6ExpQoff09WeUZ53afySP5UrlYyOl8PdgjA2nTN+adS92wblemRjrxtVfnDAoRMLrMB0JQlCkNiIjwgNnHjhzLroMckZuUz2b0OdlxW+PJDd//4+ed+RkXjl9o7T//6ZkjQsVdBSkhJM0Nhcf2bPzlz5NO9dB5C6enhLgzuq4qDBAaR672UQkcV4+k7rtaxRLL3cV8Rq9cFvr/h3Qamssv7N26buPJRlni628sHhLqzuwbaWAUfycIh/bczs3rTxsHPrVw1rCQznWbexFKif4liMViiUTi7u5+e6WF9iAoneOm8gsNVPEdjbmlJSZeQJhnXy3Y3S3QVnP59OkzeYzwIdPnTBvRz09wl6UUQVCMrfAPCfOXQVtj0bk6vpfaU87va2rErinat3rD/tNpJuWApxY+NWVEpLiri8QBgAC4Co+vOljJ7jf4sVlTRsf4ujHvcroQQWgsvtI3MCLQHdNXni9v8fAO8BT1yQtPugPaW9JPnzp+xRA+bPScWY/FBbgx76GECQVFz4C2ouN/rttbFTZx1rxx0bJOGZ29CwLvpQ41Rc9xOBx0Or3byoKQJJwWXUOrARV4qiW9co7lgUBYNE2tBifX3V3M7fHJXRK3mrXNdTa+h1wsYvc1py5u01UWltQaHUJ1YJBSdhc/AYSksaFUAyWeMhG7x+4ESBJ2k6ZK65ArPLvc4D4CEI6Wpma9ne7uKeOy+pwvgeJvACSs1ee3/7DmsnzQ1CenDFSJ+9wiSSlRCgoKCoo+CcS1Zed//GpVa8jEZ+eODvMQANzSVFNr5noEKvpGDZZ7v5SbgoKCgoLiIQAJh/7ink3r05vHB7ZknjmYjwDc0ph9Pos29rUvZ0T39vCuQylRCgoKCoo+CLTray9dzjRUFa754vya6z9iAvfYRY/3obAo5c6loKCgoOiDQJdNV5Kb12B0ttNSCI0p9AoJ83PrXAyud6CUKAUFBQUFxX3S1zIiKSgoKCgoHhkoJUpBQUFBQXGfUEqUgoKCgoLiPqGUKAUFBQUFxX1CKVEKCgoKCor7hFKiFBQUFBQU9wmlRCkoKCgoKO4TSolSUFBQUFDcJ/8HUwADEVvArggAAAAASUVORK5CYII=)\n",
        "\n",
        "=====================================================\n",
        "\n",
        "#Sample Input1:\n",
        "7, 10, 5\n",
        "#Sample Output1:\n",
        "53.88877434122991\n",
        "\n",
        "=====================================================\n",
        "\n",
        "#Sample Input2:\n",
        "7, 9, 12\n",
        "#Sample Output2:\n",
        "117.13240371477058\n",
        "\n",
        "=====================================================\n"
      ],
      "metadata": {
        "id": "H7K5sXKGkZ_s"
      }
    },
    {
      "cell_type": "code",
      "source": [
        "\n",
        "import math\n",
        "\n",
        "x = int(input(\"Please enter the value: \"))\n",
        "y = int(input(\"Please enter the value: \"))\n",
        "z = int(input(\"Please enter the value: \"))\n",
        "s = (x+y+z)/2\n",
        "result = (s-x)*(s-y)*(s-z)\n",
        "area = s*(math.pow(result,0.5))\n",
        "print(\"The area is\",area)"
      ],
      "metadata": {
        "id": "M0hIsBw8kaQc"
      },
      "execution_count": null,
      "outputs": []
    },
    {
      "cell_type": "markdown",
      "source": [
        "#Task 4\n",
        "Write Python code of a program that reads a number as a year and determines whether it is a leap year or not.\n",
        "\n",
        "Three conditions are used to identify leap years:\n",
        "\n",
        "● The year can be evenly divided by 4, is a leap year, unless\n",
        "\n",
        "● The year can be evenly divided by 100, it is NOT a leap year, unless:\n",
        "\n",
        "● The year is also evenly divisible by 400. Then it is a leap year.\n",
        "\n",
        "[Which implies -\n",
        "\n",
        "if the year can be divided by 4 and NOT divided by 100, then it’s a leap year.\n",
        "If the year can be divided by 4, divided by 100, and divided by 400, then it’s a leap\n",
        "year.]\n",
        "\n",
        "For example, the years 2000, 2024, 2028, and 2400 are leap years, while 1800, 1900, 2100, 2200, 2300, and 2500 are NOT leap years.\n",
        "\n",
        "Here, 2000, 2400 are divided by 4, 100, and 400. Thus, leap year.\n",
        "\n",
        "Here, 2024, 2028 are divided by 4 but not divided by 100. Thus, leap year.\n",
        "\n",
        "=====================================================\n",
        "\n",
        "#Sample Input1:\n",
        "2500\n",
        "#Sample Output1:\n",
        "Not a leap year\n",
        "\n",
        "#Explanation:\n",
        "Here, 2500 is evenly divisible by 4 and 100. But it is not divisible by 400. So, 2500 is not a leap year.\n",
        "\n",
        "=====================================================\n",
        "\n",
        "#Sample Input2:\n",
        "2024\n",
        "#Sample Output2:\n",
        "A leap year\n",
        "#Explanation:\n",
        "Here, 2024 is evenly divisible by 4 but not divisible by 100. So, 2024 is a leap year.\n",
        "\n",
        "=====================================================\n",
        "\n",
        "#Sample Input3:\n",
        "2400\n",
        "#Sample Output3:\n",
        "A leap year\n",
        "#Explanation:\n",
        "Here, 2400 is evenly divisible by 4, 100, and 400.\n",
        "\n"
      ],
      "metadata": {
        "id": "raZkKTaakaXt"
      }
    },
    {
      "cell_type": "code",
      "source": [
        "\n",
        "a_year = int(input(\"Please a number as a year: \"))\n",
        "if a_year%4 == 0 and a_year%100 != 0 or a_year%4 == 0 and a_year%100 == 0 and a_year%400 == 0:\n",
        "  print(\"A leap year\")\n",
        "else:\n",
        "  print(\"Not a leap year\")"
      ],
      "metadata": {
        "id": "Cb8NvTmPkaiC"
      },
      "execution_count": null,
      "outputs": []
    }
  ]
}